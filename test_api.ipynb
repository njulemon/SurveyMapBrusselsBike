{
 "cells": [
  {
   "cell_type": "code",
   "execution_count": null,
   "metadata": {
    "collapsed": true
   },
   "outputs": [],
   "source": []
  },
  {
   "cell_type": "code",
   "execution_count": null,
   "outputs": [],
   "source": [
    "import io\n",
    "import json\n",
    "from typing import Dict\n",
    "\n",
    "import geopandas\n",
    "import matplotlib.pyplot as plt\n",
    "import requests\n",
    "import shapefile\n",
    "import geoplot as gplt\n",
    "from pyproj import CRS\n",
    "from shapely.geometry import Polygon\n",
    "import geoplot.crs as gcrs\n"
   ],
   "metadata": {
    "collapsed": false
   }
  },
  {
   "cell_type": "code",
   "execution_count": 2,
   "outputs": [
    {
     "ename": "NameError",
     "evalue": "name 'shapefile' is not defined",
     "output_type": "error",
     "traceback": [
      "\u001B[0;31m---------------------------------------------------------------------------\u001B[0m",
      "\u001B[0;31mNameError\u001B[0m                                 Traceback (most recent call last)",
      "Cell \u001B[0;32mIn[2], line 2\u001B[0m\n\u001B[1;32m      1\u001B[0m \u001B[38;5;66;03m# read the map file\u001B[39;00m\n\u001B[0;32m----> 2\u001B[0m sf \u001B[38;5;241m=\u001B[39m \u001B[43mshapefile\u001B[49m\u001B[38;5;241m.\u001B[39mReader(\u001B[38;5;124m\"\u001B[39m\u001B[38;5;124mData/Map/UrbAdm_MUNICIPALITY\u001B[39m\u001B[38;5;124m\"\u001B[39m)\n\u001B[1;32m      3\u001B[0m shapes \u001B[38;5;241m=\u001B[39m sf\u001B[38;5;241m.\u001B[39mshapes()\n\u001B[1;32m      4\u001B[0m records \u001B[38;5;241m=\u001B[39m sf\u001B[38;5;241m.\u001B[39mrecords()\n",
      "\u001B[0;31mNameError\u001B[0m: name 'shapefile' is not defined"
     ]
    }
   ],
   "source": [
    "# read the map file\n",
    "sf = shapefile.Reader(\"Data/Map/UrbAdm_MUNICIPALITY\")\n",
    "shapes = sf.shapes()\n",
    "records = sf.records()\n",
    "patches = []\n",
    "colors = []\n",
    "\n",
    "geo_array = dict()\n",
    "\n",
    "# data = get_data()\n",
    "\n",
    "for i in range(len(shapes)):\n",
    "    geometry = Polygon([point for point in shapes[i].points])\n",
    "    commune = records[i]['NAME_FRE']\n",
    "    value = i\n",
    "\n",
    "    geo_array.update({i: {'commune': commune, 'geometry': geometry, 'value': value}})\n",
    "\n",
    "gdf = geopandas.GeoDataFrame.from_dict(geo_array, orient='index', crs='epsg:31370')\n",
    "gdf_ = gdf.to_crs(crs='epsg:4326')\n",
    "\n",
    "# fig, ax = plt.subplots()\n",
    "\n",
    "# gdf.boundary.plot('Dark2')\n",
    "# gdf.plot('value', legend=True)\n",
    "\n",
    "ax = gplt.polyplot(gdf,  projection=gcrs.AlbersEqualArea())\n",
    "\n",
    "# gplt.polyplot(gdf, projection='epsg:31370', ax=ax)"
   ],
   "metadata": {
    "collapsed": false
   }
  },
  {
   "cell_type": "code",
   "execution_count": null,
   "outputs": [],
   "source": [],
   "metadata": {
    "collapsed": false
   }
  }
 ],
 "metadata": {
  "kernelspec": {
   "display_name": "Python 3",
   "language": "python",
   "name": "python3"
  },
  "language_info": {
   "codemirror_mode": {
    "name": "ipython",
    "version": 2
   },
   "file_extension": ".py",
   "mimetype": "text/x-python",
   "name": "python",
   "nbconvert_exporter": "python",
   "pygments_lexer": "ipython2",
   "version": "2.7.6"
  }
 },
 "nbformat": 4,
 "nbformat_minor": 0
}
